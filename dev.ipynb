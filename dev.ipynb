{
 "cells": [
  {
   "cell_type": "code",
   "execution_count": 33,
   "metadata": {},
   "outputs": [
    {
     "name": "stdout",
     "output_type": "stream",
     "text": [
      "Found 60 unique HEALPix indices\n"
     ]
    },
    {
     "name": "stderr",
     "output_type": "stream",
     "text": [
      "Processing HEALPix indices: 100%|██████████| 60/60 [00:06<00:00,  8.59it/s]\n"
     ]
    }
   ],
   "source": [
    "from astropy.table import Table\n",
    "import healpy as hp\n",
    "import numpy as np\n",
    "from multiprocessing import Pool\n",
    "import h5py\n",
    "from tqdm import tqdm\n",
    "import os\n",
    "\n"
   ]
  },
  {
   "cell_type": "code",
   "execution_count": 34,
   "metadata": {},
   "outputs": [],
   "source": [
    "def save_in_standard_format(input_path, output_dir):\n",
    "    \"\"\"Save the input HDF5 file in the standard format for the HEALPix-based dataset.\"\"\"\n",
    "    data = Table.read(input_path)\n",
    "\n",
    "    ra = data['RA']\n",
    "    dec = data['DEC']\n",
    "\n",
    "    healpix_indices = hp.ang2pix(16, ra, dec, lonlat=True, nest=True)\n",
    "    unique_indices = np.unique(healpix_indices)\n",
    "\n",
    "    print(f\"Found {len(unique_indices)} unique HEALPix indices\")\n",
    "\n",
    "    for index in tqdm(unique_indices, desc=\"Processing HEALPix indices\"):\n",
    "        mask = healpix_indices == index\n",
    "\n",
    "        grouped_data = data[mask]\n",
    "        \n",
    "        output_subdir = os.path.join(output_dir, f'healpix={index}')\n",
    "\n",
    "        if not os.path.exists(output_subdir):\n",
    "            os.makedirs(output_subdir)\n",
    "        \n",
    "        output_path = os.path.join(output_subdir, '001-of-001.h5')\n",
    "\n",
    "        with h5py.File(output_path, 'w') as output_file:\n",
    "            for key in data.keys():\n",
    "                output_file.create_dataset(key, data=grouped_data[key])\n",
    "            output_file.create_dataset('object_id', data=grouped_data['TARGETID'])\n",
    "\n",
    "def main(args):\n",
    "    output_dir = os.path.join(args.output_dir, 'datafiles')\n",
    "    if not os.path.exists(output_dir):\n",
    "        os.makedirs(output_dir)\n",
    "    save_in_standard_format(args.input_path, output_dir)"
   ]
  }
 ],
 "metadata": {
  "kernelspec": {
   "display_name": "astrokernel",
   "language": "python",
   "name": "python3"
  },
  "language_info": {
   "codemirror_mode": {
    "name": "ipython",
    "version": 3
   },
   "file_extension": ".py",
   "mimetype": "text/x-python",
   "name": "python",
   "nbconvert_exporter": "python",
   "pygments_lexer": "ipython3",
   "version": "3.9.15"
  },
  "orig_nbformat": 4
 },
 "nbformat": 4,
 "nbformat_minor": 2
}
