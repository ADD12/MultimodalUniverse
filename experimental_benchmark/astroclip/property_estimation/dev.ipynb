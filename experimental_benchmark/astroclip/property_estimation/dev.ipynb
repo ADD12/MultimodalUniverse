{
 "cells": [
  {
   "cell_type": "code",
   "execution_count": 38,
   "metadata": {},
   "outputs": [
    {
     "name": "stderr",
     "output_type": "stream",
     "text": [
      "/mnt/home/lparker/python_envs/toto/lib/python3.10/site-packages/datasets/load.py:929: FutureWarning: The repository for desi_provabgs contains custom code which must be executed to correctly load the dataset. You can inspect the repository content at /mnt/ceph/users/polymathic/AstroPile_v1/desi_provabgs/desi_provabgs.py\n",
      "You can avoid this message in future by passing the argument `trust_remote_code=True`.\n",
      "Passing `trust_remote_code=True` will be mandatory to load this dataset from the next major release of `datasets`.\n",
      "  warnings.warn(\n"
     ]
    }
   ],
   "source": [
    "from datasets import load_dataset\n",
    "\n",
    "provabgs_path = '/mnt/ceph/users/polymathic/AstroPile_v1/desi_provabgs/'\n",
    "\n",
    "provabgs = load_dataset(provabgs_path)\n",
    "provabgs.set_format('torch', columns=['LOG_MSTAR', 'MAG_G', 'MAG_R', 'MAG_Z', 'AVG_SFR', 'Z_MW', 'Z_HP', 'TAGE_MW', 'object_id'])\n",
    "provabgs = provabgs['train']"
   ]
  },
  {
   "cell_type": "code",
   "execution_count": 40,
   "metadata": {},
   "outputs": [],
   "source": [
    "import numpy as np\n",
    "\n",
    "provabgs = provabgs[\n",
    "    (provabgs['LOG_MSTAR'] > 0)\n",
    "    * (provabgs[\"MAG_G\"] > 0)\n",
    "    * (provabgs[\"MAG_R\"] > 0)\n",
    "    * (provabgs[\"MAG_Z\"] > 0)\n",
    "]\n",
    "\n",
    "# Scale the properties\n",
    "provabgs[\"LOG_MSTAR\"] = provabgs[\"LOG_MSTAR\"]\n",
    "provabgs[\"sSFR\"] = np.log(provabgs[\"AVG_SFR\"]) - np.log(provabgs[\"Z_MW\"])\n",
    "provabgs[\"Z_MW\"] = np.log(provabgs[\"Z_MW\"])\n"
   ]
  }
 ],
 "metadata": {
  "kernelspec": {
   "display_name": "toto",
   "language": "python",
   "name": "toto"
  },
  "language_info": {
   "codemirror_mode": {
    "name": "ipython",
    "version": 3
   },
   "file_extension": ".py",
   "mimetype": "text/x-python",
   "name": "python",
   "nbconvert_exporter": "python",
   "pygments_lexer": "ipython3",
   "version": "3.10.10"
  },
  "orig_nbformat": 4
 },
 "nbformat": 4,
 "nbformat_minor": 2
}
