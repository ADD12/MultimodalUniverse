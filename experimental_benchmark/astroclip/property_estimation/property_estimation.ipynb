{
 "cells": [
  {
   "cell_type": "code",
   "execution_count": 1,
   "metadata": {},
   "outputs": [],
   "source": [
    "import os, sys\n",
    "import numpy as np\n",
    "import torch\n",
    "from astropy.table import Table\n",
    "from sklearn.preprocessing import StandardScaler\n",
    "from sklearn.metrics import r2_score\n",
    "\n",
    "# Embedding root\n",
    "EMBEDDING_ROOT = \"/mnt/home/lparker/astropile_provabgs_desi_decals\"\n",
    "\n",
    "# Set up the paths\n",
    "train_path = os.path.join(EMBEDDING_ROOT, \"train_provabgs.hdf5\")\n",
    "test_path = os.path.join(EMBEDDING_ROOT, \"test_provabgs.hdf5\")\n",
    "\n",
    "# Get embeddings and PROVABGS table\n",
    "train_provabgs = Table.read(train_path)\n",
    "test_provabgs = Table.read(test_path)\n",
    "\n",
    "# Properties\n",
    "cols = ['LOG_MSTAR', 'sSFR', 'Z_MW', 'Z_HP', 'TAGE_MW']\n",
    "\n",
    "# Set up X and y\n",
    "X_train = {\"im\": train_provabgs[\"image_embedding\"], \"sp\": train_provabgs[\"spectrum_embedding\"]}\n",
    "X_test = {\"im\": test_provabgs[\"image_embedding\"], \"sp\": test_provabgs[\"spectrum_embedding\"]}\n",
    "\n",
    "y_train = "
   ]
  },
  {
   "cell_type": "code",
   "execution_count": null,
   "metadata": {},
   "outputs": [],
   "source": [
    "neigh = KNeighborsRegressor(weights=\"distance\", n_neighbors=64)\n",
    "neigh.fit(X_train, y_train)\n",
    "preds = neigh.predict(X_test)"
   ]
  }
 ],
 "metadata": {
  "kernelspec": {
   "display_name": "toto",
   "language": "python",
   "name": "toto"
  },
  "language_info": {
   "codemirror_mode": {
    "name": "ipython",
    "version": 3
   },
   "file_extension": ".py",
   "mimetype": "text/x-python",
   "name": "python",
   "nbconvert_exporter": "python",
   "pygments_lexer": "ipython3",
   "version": "3.10.10"
  },
  "orig_nbformat": 4
 },
 "nbformat": 4,
 "nbformat_minor": 2
}
