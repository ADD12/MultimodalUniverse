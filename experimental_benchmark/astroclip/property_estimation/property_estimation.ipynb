{
 "cells": [
  {
   "cell_type": "code",
   "execution_count": 2,
   "metadata": {},
   "outputs": [],
   "source": [
    "import os\n",
    "import numpy as np\n",
    "from astropy.table import Table\n",
    "from sklearn.metrics import r2_score\n",
    "from sklearn.neighbors import KNeighborsRegressor\n",
    "\n",
    "# Embedding root\n",
    "EMBEDDING_ROOT = \"/mnt/home/lparker/astropile_provabgs_desi_decals\"\n",
    "\n",
    "# Set up the paths\n",
    "train_path = os.path.join(EMBEDDING_ROOT, \"train_provabgs.hdf5\")\n",
    "test_path = os.path.join(EMBEDDING_ROOT, \"test_provabgs.hdf5\")\n",
    "\n",
    "# Get embeddings and PROVABGS table\n",
    "train_provabgs = Table.read(train_path)\n",
    "test_provabgs = Table.read(test_path)\n",
    "\n",
    "# Properties\n",
    "cols = ['LOG_MSTAR', 'sSFR', 'Z_MW', 'Z_HP', 'TAGE_MW']\n",
    "\n",
    "# Set up X and y\n",
    "X_train = {\"im\": train_provabgs[\"image_embedding\"], \"sp\": train_provabgs[\"spectrum_embedding\"]}\n",
    "X_test = {\"im\": test_provabgs[\"image_embedding\"], \"sp\": test_provabgs[\"spectrum_embedding\"]}\n",
    "y_train = np.stack([train_provabgs[col] for col in cols]).T\n",
    "y_test = np.stack([test_provabgs[col] for col in cols]).T\n",
    "\n",
    "# Set up regressor\n",
    "neigh = KNeighborsRegressor(weights=\"distance\", n_neighbors=16)\n"
   ]
  },
  {
   "cell_type": "markdown",
   "metadata": {},
   "source": [
    "#### From Images"
   ]
  },
  {
   "cell_type": "code",
   "execution_count": 3,
   "metadata": {},
   "outputs": [
    {
     "data": {
      "text/plain": [
       "{'LOG_MSTAR': [0.737583396970755],\n",
       " 'sSFR': [0.43525226693242236],\n",
       " 'Z_MW': [0.43210501837075377],\n",
       " 'Z_HP': [0.8010800055020211],\n",
       " 'TAGE_MW': [0.2403473690849901]}"
      ]
     },
     "execution_count": 3,
     "metadata": {},
     "output_type": "execute_result"
    }
   ],
   "source": [
    "neigh.fit(X_train[\"im\"], y_train)\n",
    "preds = neigh.predict(X_test[\"im\"])\n",
    "\n",
    "# Make a table of r^2 scores\n",
    "knn_r2 = {key: [] for key in cols}\n",
    "\n",
    "for i, prop in enumerate(cols):\n",
    "    knn_r2[prop].append(r2_score(y_test[:, i], preds[:, i]))\n",
    "\n",
    "knn_r2"
   ]
  },
  {
   "cell_type": "markdown",
   "metadata": {},
   "source": [
    "#### From Spectra"
   ]
  },
  {
   "cell_type": "code",
   "execution_count": 4,
   "metadata": {},
   "outputs": [
    {
     "data": {
      "text/plain": [
       "{'LOG_MSTAR': [0.8793156111334741],\n",
       " 'sSFR': [0.643199859468666],\n",
       " 'Z_MW': [0.5846860959451257],\n",
       " 'Z_HP': [0.985718123551883],\n",
       " 'TAGE_MW': [0.4405237886817924]}"
      ]
     },
     "execution_count": 4,
     "metadata": {},
     "output_type": "execute_result"
    }
   ],
   "source": [
    "from sklearn.neighbors import KNeighborsRegressor\n",
    "\n",
    "neigh.fit(X_train[\"sp\"], y_train)\n",
    "preds = neigh.predict(X_test[\"sp\"])\n",
    "\n",
    "# Make a table of r^2 scores\n",
    "knn_r2 = {key: [] for key in cols}\n",
    "\n",
    "for i, prop in enumerate(cols):\n",
    "    knn_r2[prop].append(r2_score(y_test[:, i], preds[:, i]))\n",
    "\n",
    "knn_r2"
   ]
  },
  {
   "cell_type": "code",
   "execution_count": null,
   "metadata": {},
   "outputs": [],
   "source": [
    "j"
   ]
  }
 ],
 "metadata": {
  "kernelspec": {
   "display_name": "toto",
   "language": "python",
   "name": "toto"
  },
  "language_info": {
   "codemirror_mode": {
    "name": "ipython",
    "version": 3
   },
   "file_extension": ".py",
   "mimetype": "text/x-python",
   "name": "python",
   "nbconvert_exporter": "python",
   "pygments_lexer": "ipython3",
   "version": "3.10.10"
  },
  "orig_nbformat": 4
 },
 "nbformat": 4,
 "nbformat_minor": 2
}
