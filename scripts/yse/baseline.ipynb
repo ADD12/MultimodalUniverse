{
 "cells": [
  {
   "cell_type": "code",
   "execution_count": 106,
   "metadata": {},
   "outputs": [],
   "source": [
    "import h5py\n",
    "import numpy as np"
   ]
  },
  {
   "cell_type": "code",
   "execution_count": 114,
   "metadata": {},
   "outputs": [
    {
     "name": "stdout",
     "output_type": "stream",
     "text": [
      "<KeysViewHDF5 ['dec', 'flux', 'flux_err', 'host_log_mass', 'object_id', 'photo_z', 'quality_mask', 'ra', 'redshift', 'spec_class', 'spec_class_broad', 'time']>\n"
     ]
    }
   ],
   "source": [
    "with h5py.File('../../data/yse.hdf5') as f:\n",
    "    classes  = f['spec_class'][:]\n",
    "arg_keep = np.where(classes != b'NA')\n",
    "\n",
    "with h5py.File('../../data/yse.hdf5') as f:\n",
    "    flux     = f['flux'][arg_keep]\n",
    "    time     = f['time'][arg_keep]\n",
    "    photo_z  = f['photo_z'][arg_keep]\n",
    "    classes  = f['spec_class'][arg_keep]\n",
    "    print(f.keys())\n",
    "\n",
    "n_objects = flux.shape[0]\n",
    "data   = np.stack([time, flux], axis=2).reshape(n_objects, -1)\n",
    "data   = np.concatenate([data, photo_z[:, None]], axis=1)\n",
    "\n",
    "type_classes = np.unique(classes)\n",
    "n_classes    = len(type_classes)\n",
    "class_dict   = dict(zip(type_classes, np.arange(0, n_classes)))\n",
    "labels       = np.array([class_dict[c] for c in classes])"
   ]
  },
  {
   "cell_type": "code",
   "execution_count": 132,
   "metadata": {},
   "outputs": [
    {
     "name": "stdout",
     "output_type": "stream",
     "text": [
      "<KeysViewHDF5 ['dec', 'flux', 'flux_err', 'host_log_mass', 'object_id', 'photo_z', 'quality_mask', 'ra', 'redshift', 'spec_class', 'spec_class_broad', 'time']>\n"
     ]
    }
   ],
   "source": [
    "with h5py.File('../../data/yse.hdf5') as f:\n",
    "    flux     = f['flux'][:]\n",
    "    time     = f['time'][:]\n",
    "    photo_z  = f['photo_z'][:]\n",
    "    classes  = f['spec_class'][:]\n",
    "    print(f.keys())"
   ]
  },
  {
   "cell_type": "code",
   "execution_count": 137,
   "metadata": {},
   "outputs": [
    {
     "data": {
      "text/plain": [
       "{b'LBV': 0,\n",
       " b'LRN': 1,\n",
       " b'Other': 2,\n",
       " b'SLSN-I': 3,\n",
       " b'SLSN-II': 4,\n",
       " b'SN': 5,\n",
       " b'SN-II': 6,\n",
       " b'SN-IIb': 7,\n",
       " b'SN-IIn': 8,\n",
       " b'SN-Ia-91T-like': 9,\n",
       " b'SN-Ia-91bg-like': 10,\n",
       " b'SN-Ia-CSM': 11,\n",
       " b'SN-Ia-SC': 12,\n",
       " b'SN-Ia-norm': 13,\n",
       " b'SN-Iax': 14,\n",
       " b'SN-Ib': 15,\n",
       " b'SN-Ib-pec': 16,\n",
       " b'SN-Ibn': 17,\n",
       " b'SN-Ic': 18,\n",
       " b'SN-Ic-BL': 19,\n",
       " b'TDE': 20}"
      ]
     },
     "execution_count": 137,
     "metadata": {},
     "output_type": "execute_result"
    }
   ],
   "source": [
    "class_dict"
   ]
  },
  {
   "cell_type": "code",
   "execution_count": 133,
   "metadata": {},
   "outputs": [
    {
     "data": {
      "text/plain": [
       "array([ 0,  1,  2,  3,  4,  5,  6,  7,  8,  9, 10, 11, 12, 13, 14, 15, 16,\n",
       "       17, 18, 19, 20])"
      ]
     },
     "execution_count": 133,
     "metadata": {},
     "output_type": "execute_result"
    }
   ],
   "source": [
    "np.unique( labels )"
   ]
  },
  {
   "cell_type": "code",
   "execution_count": 134,
   "metadata": {},
   "outputs": [
    {
     "data": {
      "text/plain": [
       "array([b'LBV', b'LRN', b'NA', b'Other', b'SLSN-I', b'SLSN-II', b'SN',\n",
       "       b'SN-II', b'SN-IIb', b'SN-IIn', b'SN-Ia-91T-like',\n",
       "       b'SN-Ia-91bg-like', b'SN-Ia-CSM', b'SN-Ia-SC', b'SN-Ia-norm',\n",
       "       b'SN-Iax', b'SN-Ib', b'SN-Ib-pec', b'SN-Ibn', b'SN-Ic',\n",
       "       b'SN-Ic-BL', b'TDE'], dtype='|S50')"
      ]
     },
     "execution_count": 134,
     "metadata": {},
     "output_type": "execute_result"
    }
   ],
   "source": [
    "np.unique(classes)"
   ]
  },
  {
   "cell_type": "code",
   "execution_count": 93,
   "metadata": {},
   "outputs": [
    {
     "data": {
      "text/plain": [
       "(494, 1753)"
      ]
     },
     "execution_count": 93,
     "metadata": {},
     "output_type": "execute_result"
    }
   ],
   "source": [
    "data.shape"
   ]
  },
  {
   "cell_type": "code",
   "execution_count": 77,
   "metadata": {},
   "outputs": [
    {
     "data": {
      "text/plain": [
       "{b'NA': 0, b'Other': 1, b'SN': 2}"
      ]
     },
     "execution_count": 77,
     "metadata": {},
     "output_type": "execute_result"
    }
   ],
   "source": [
    "class_dict"
   ]
  },
  {
   "cell_type": "code",
   "execution_count": 72,
   "metadata": {},
   "outputs": [
    {
     "data": {
      "text/plain": [
       "(array([   2,    3,    4, ..., 1999, 2000, 2001]),\n",
       " array([0, 0, 0, ..., 0, 0, 0]))"
      ]
     },
     "execution_count": 72,
     "metadata": {},
     "output_type": "execute_result"
    }
   ],
   "source": [
    "np.where( labels == b'NA' )"
   ]
  },
  {
   "cell_type": "code",
   "execution_count": 68,
   "metadata": {},
   "outputs": [
    {
     "data": {
      "text/plain": [
       "array([[b'SN'],\n",
       "       [b'SN'],\n",
       "       [b'NA'],\n",
       "       ...,\n",
       "       [b'NA'],\n",
       "       [b'NA'],\n",
       "       [b'SN']], dtype='|S50')"
      ]
     },
     "execution_count": 68,
     "metadata": {},
     "output_type": "execute_result"
    }
   ],
   "source": [
    "labels"
   ]
  },
  {
   "cell_type": "code",
   "execution_count": 50,
   "metadata": {},
   "outputs": [
    {
     "data": {
      "text/plain": [
       "(2003, 1752)"
      ]
     },
     "execution_count": 50,
     "metadata": {},
     "output_type": "execute_result"
    }
   ],
   "source": [
    "data.reshape(2003, -1).shape"
   ]
  },
  {
   "cell_type": "code",
   "execution_count": 42,
   "metadata": {},
   "outputs": [
    {
     "data": {
      "text/plain": [
       "((2003, 6, 2, 146), (2003, 1))"
      ]
     },
     "execution_count": 42,
     "metadata": {},
     "output_type": "execute_result"
    }
   ],
   "source": [
    "data.shape, labels.shape"
   ]
  },
  {
   "cell_type": "code",
   "execution_count": 24,
   "metadata": {},
   "outputs": [
    {
     "data": {
      "text/plain": [
       "(2003, 6, 146)"
      ]
     },
     "execution_count": 24,
     "metadata": {},
     "output_type": "execute_result"
    }
   ],
   "source": [
    "flux.shape"
   ]
  },
  {
   "cell_type": "code",
   "execution_count": 26,
   "metadata": {},
   "outputs": [
    {
     "data": {
      "text/plain": [
       "array([b'LBV', b'LRN', b'NA', b'Other', b'SLSN-I', b'SLSN-II', b'SN',\n",
       "       b'TDE'], dtype='|S50')"
      ]
     },
     "execution_count": 26,
     "metadata": {},
     "output_type": "execute_result"
    }
   ],
   "source": [
    "np.unique(labels)"
   ]
  },
  {
   "cell_type": "code",
   "execution_count": 27,
   "metadata": {},
   "outputs": [
    {
     "data": {
      "text/plain": [
       "array([b'NA', b'Other', b'SN'], dtype='|S50')"
      ]
     },
     "execution_count": 27,
     "metadata": {},
     "output_type": "execute_result"
    }
   ],
   "source": [
    "np.unique(labels_broad)"
   ]
  },
  {
   "cell_type": "code",
   "execution_count": 21,
   "metadata": {},
   "outputs": [
    {
     "data": {
      "text/plain": [
       "1529"
      ]
     },
     "execution_count": 21,
     "metadata": {},
     "output_type": "execute_result"
    }
   ],
   "source": [
    "( labels_broad != b'SN' ).sum()"
   ]
  },
  {
   "cell_type": "code",
   "execution_count": 28,
   "metadata": {},
   "outputs": [
    {
     "data": {
      "text/plain": [
       "1509"
      ]
     },
     "execution_count": 28,
     "metadata": {},
     "output_type": "execute_result"
    }
   ],
   "source": [
    "( labels_broad == b'NA' ).sum()"
   ]
  }
 ],
 "metadata": {
  "kernelspec": {
   "display_name": "Astro",
   "language": "python",
   "name": "python3"
  },
  "language_info": {
   "codemirror_mode": {
    "name": "ipython",
    "version": 3
   },
   "file_extension": ".py",
   "mimetype": "text/x-python",
   "name": "python",
   "nbconvert_exporter": "python",
   "pygments_lexer": "ipython3",
   "version": "3.10.14"
  }
 },
 "nbformat": 4,
 "nbformat_minor": 2
}
