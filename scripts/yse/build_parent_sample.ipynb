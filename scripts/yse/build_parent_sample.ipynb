{
 "cells": [
  {
   "cell_type": "code",
   "execution_count": 1,
   "id": "659f4826",
   "metadata": {},
   "outputs": [],
   "source": [
    "import os\n",
    "import argparse"
   ]
  },
  {
   "cell_type": "code",
   "execution_count": 2,
   "id": "fd82d183",
   "metadata": {},
   "outputs": [],
   "source": [
    "import h5py\n",
    "import numpy as np\n",
    "import sncosmo\n",
    "import glob"
   ]
  },
  {
   "cell_type": "markdown",
   "id": "e958dad1",
   "metadata": {},
   "source": [
    "N       = # number of objects\n",
    "t_max   = # maximum number of time for a given object\n",
    "N_bands = # number of bands"
   ]
  },
  {
   "cell_type": "code",
   "execution_count": 18,
   "id": "4e53b4f9",
   "metadata": {
    "lines_to_next_cell": 2
   },
   "outputs": [
    {
     "name": "stdout",
     "output_type": "stream",
     "text": [
      "[-9.900e+01  2.000e-03  2.400e-03  3.100e-03  3.300e-03  4.200e-03\n",
      "  5.000e-03  5.200e-03  5.900e-03  6.000e-03  6.200e-03  6.800e-03\n",
      "  7.300e-03  7.400e-03  8.200e-03  8.400e-03  8.700e-03  9.300e-03\n",
      "  1.160e-02  1.270e-02  1.410e-02  1.420e-02  1.440e-02  1.470e-02\n",
      "  1.570e-02  1.580e-02  1.630e-02  1.640e-02  1.680e-02  1.690e-02\n",
      "  1.750e-02  1.790e-02  1.840e-02  1.850e-02  1.890e-02  1.930e-02\n",
      "  1.990e-02  2.000e-02  2.040e-02  2.050e-02  2.090e-02  2.140e-02\n",
      "  2.160e-02  2.190e-02  2.200e-02  2.250e-02  2.330e-02  2.340e-02\n",
      "  2.350e-02  2.360e-02  2.370e-02  2.440e-02  2.470e-02  2.480e-02\n",
      "  2.500e-02  2.570e-02  2.620e-02  2.670e-02  2.730e-02  2.740e-02\n",
      "  2.750e-02  2.790e-02  2.800e-02  2.820e-02  2.840e-02  2.850e-02\n",
      "  2.860e-02  2.880e-02  2.890e-02  2.900e-02  2.920e-02  2.960e-02\n",
      "  2.990e-02  3.000e-02  3.030e-02  3.070e-02  3.110e-02  3.130e-02\n",
      "  3.150e-02  3.160e-02  3.170e-02  3.180e-02  3.190e-02  3.210e-02\n",
      "  3.220e-02  3.230e-02  3.260e-02  3.320e-02  3.330e-02  3.350e-02\n",
      "  3.410e-02  3.450e-02  3.460e-02  3.550e-02  3.580e-02  3.600e-02\n",
      "  3.620e-02  3.710e-02  3.740e-02  3.750e-02  3.760e-02  3.770e-02\n",
      "  3.780e-02  3.810e-02  3.830e-02  3.870e-02  3.880e-02  3.890e-02\n",
      "  3.910e-02  3.930e-02  3.940e-02  3.990e-02  4.020e-02  4.090e-02\n",
      "  4.100e-02  4.130e-02  4.180e-02  4.230e-02  4.310e-02  4.320e-02\n",
      "  4.350e-02  4.410e-02  4.430e-02  4.460e-02  4.480e-02  4.500e-02\n",
      "  4.510e-02  4.570e-02  4.600e-02  4.610e-02  4.650e-02  4.690e-02\n",
      "  4.740e-02  4.760e-02  4.780e-02  4.800e-02  4.810e-02  4.820e-02\n",
      "  4.850e-02  4.960e-02  4.980e-02  5.000e-02  5.040e-02  5.070e-02\n",
      "  5.080e-02  5.140e-02  5.220e-02  5.270e-02  5.280e-02  5.320e-02\n",
      "  5.350e-02  5.410e-02  5.460e-02  5.500e-02  5.530e-02  5.610e-02\n",
      "  5.630e-02  5.640e-02  5.670e-02  5.700e-02  5.810e-02  5.880e-02\n",
      "  5.900e-02  5.910e-02  5.930e-02  5.960e-02  5.970e-02  6.050e-02\n",
      "  6.070e-02  6.140e-02  6.150e-02  6.160e-02  6.170e-02  6.200e-02\n",
      "  6.220e-02  6.250e-02  6.300e-02  6.350e-02  6.380e-02  6.400e-02\n",
      "  6.440e-02  6.450e-02  6.480e-02  6.510e-02  6.550e-02  6.570e-02\n",
      "  6.590e-02  6.670e-02  6.700e-02  6.760e-02  6.800e-02  6.810e-02\n",
      "  6.820e-02  6.870e-02  6.880e-02  6.910e-02  6.940e-02  6.950e-02\n",
      "  6.990e-02  7.020e-02  7.040e-02  7.060e-02  7.090e-02  7.110e-02\n",
      "  7.120e-02  7.130e-02  7.150e-02  7.160e-02  7.190e-02  7.280e-02\n",
      "  7.300e-02  7.310e-02  7.340e-02  7.370e-02  7.390e-02  7.410e-02\n",
      "  7.420e-02  7.500e-02  7.540e-02  7.550e-02  7.580e-02  7.610e-02\n",
      "  7.620e-02  7.690e-02  7.700e-02  7.720e-02  7.730e-02  7.750e-02\n",
      "  7.760e-02  7.800e-02  7.820e-02  7.840e-02  7.850e-02  7.870e-02\n",
      "  7.900e-02  7.940e-02  7.960e-02  7.990e-02  8.010e-02  8.030e-02\n",
      "  8.040e-02  8.050e-02  8.060e-02  8.100e-02  8.110e-02  8.200e-02\n",
      "  8.210e-02  8.290e-02  8.300e-02  8.320e-02  8.350e-02  8.360e-02\n",
      "  8.380e-02  8.400e-02  8.410e-02  8.430e-02  8.450e-02  8.480e-02\n",
      "  8.530e-02  8.560e-02  8.580e-02  8.600e-02  8.620e-02  8.660e-02\n",
      "  8.670e-02  8.690e-02  8.700e-02  8.720e-02  8.730e-02  8.740e-02\n",
      "  8.750e-02  8.780e-02  8.820e-02  8.840e-02  8.860e-02  8.900e-02\n",
      "  8.930e-02  9.030e-02  9.110e-02  9.120e-02  9.130e-02  9.150e-02\n",
      "  9.170e-02  9.210e-02  9.240e-02  9.260e-02  9.290e-02  9.320e-02\n",
      "  9.330e-02  9.340e-02  9.350e-02  9.390e-02  9.430e-02  9.450e-02\n",
      "  9.490e-02  9.500e-02  9.520e-02  9.560e-02  9.590e-02  9.600e-02\n",
      "  9.620e-02  9.640e-02  9.650e-02  9.700e-02  9.720e-02  9.730e-02\n",
      "  9.770e-02  9.780e-02  9.830e-02  9.840e-02  9.890e-02  9.930e-02\n",
      "  9.980e-02  1.001e-01  1.003e-01  1.004e-01  1.006e-01  1.012e-01\n",
      "  1.020e-01  1.022e-01  1.026e-01  1.027e-01  1.031e-01  1.032e-01\n",
      "  1.034e-01  1.036e-01  1.037e-01  1.045e-01  1.047e-01  1.064e-01\n",
      "  1.065e-01  1.068e-01  1.070e-01  1.071e-01  1.076e-01  1.077e-01\n",
      "  1.079e-01  1.080e-01  1.085e-01  1.091e-01  1.092e-01  1.098e-01\n",
      "  1.099e-01  1.105e-01  1.107e-01  1.110e-01  1.114e-01  1.115e-01\n",
      "  1.117e-01  1.119e-01  1.121e-01  1.122e-01  1.140e-01  1.144e-01\n",
      "  1.153e-01  1.154e-01  1.158e-01  1.162e-01  1.169e-01  1.173e-01\n",
      "  1.194e-01  1.196e-01  1.203e-01  1.206e-01  1.207e-01  1.209e-01\n",
      "  1.216e-01  1.218e-01  1.228e-01  1.233e-01  1.241e-01  1.248e-01\n",
      "  1.251e-01  1.260e-01  1.261e-01  1.262e-01  1.268e-01  1.271e-01\n",
      "  1.283e-01  1.288e-01  1.293e-01  1.295e-01  1.298e-01  1.309e-01\n",
      "  1.310e-01  1.312e-01  1.313e-01  1.319e-01  1.320e-01  1.324e-01\n",
      "  1.326e-01  1.327e-01  1.330e-01  1.331e-01  1.340e-01  1.351e-01\n",
      "  1.352e-01  1.353e-01  1.354e-01  1.362e-01  1.365e-01  1.384e-01\n",
      "  1.385e-01  1.387e-01  1.398e-01  1.399e-01  1.420e-01  1.433e-01\n",
      "  1.438e-01  1.441e-01  1.442e-01  1.470e-01  1.474e-01  1.483e-01\n",
      "  1.486e-01  1.487e-01  1.496e-01  1.502e-01  1.512e-01  1.534e-01\n",
      "  1.544e-01  1.562e-01  1.581e-01  1.583e-01  1.589e-01  1.591e-01\n",
      "  1.604e-01  1.625e-01  1.627e-01  1.629e-01  1.638e-01  1.655e-01\n",
      "  1.659e-01  1.661e-01  1.680e-01  1.694e-01  1.700e-01  1.702e-01\n",
      "  1.737e-01  1.739e-01  1.744e-01  1.753e-01  1.760e-01  1.771e-01\n",
      "  1.772e-01  1.773e-01  1.778e-01  1.791e-01  1.811e-01  1.814e-01\n",
      "  1.828e-01  1.833e-01  1.835e-01  1.864e-01  1.870e-01  1.871e-01\n",
      "  1.879e-01  1.888e-01  1.892e-01  1.908e-01  1.930e-01  1.940e-01\n",
      "  1.943e-01  1.989e-01  1.991e-01  2.026e-01  2.027e-01  2.035e-01\n",
      "  2.074e-01  2.150e-01  2.197e-01  2.260e-01  2.291e-01  2.308e-01\n",
      "  2.481e-01  2.484e-01  2.517e-01  2.529e-01  2.575e-01  3.073e-01]\n"
     ]
    }
   ],
   "source": [
    "file_paths = glob.glob(r'../../data/yse_dr1_zenodo/*.dat')\n",
    "#N = len(file_paths)\n",
    "names = []\n",
    "for file_path in file_paths:\n",
    "    metadata, data = sncosmo.read_snana_ascii(file_path, default_tablename='OBS')\n",
    "    names.append(metadata['VETTED_HOST_GALAXY_REDSHIFT'])\n",
    "print(np.unique(names))"
   ]
  },
  {
   "cell_type": "code",
   "execution_count": 25,
   "id": "9e96a596",
   "metadata": {},
   "outputs": [
    {
     "data": {
      "text/plain": [
       "['MJD', 'FLT', 'FIELD', 'FLUXCAL', 'FLUXCALERR', 'MAG', 'MAGERR', 'FLAG']"
      ]
     },
     "execution_count": 25,
     "metadata": {},
     "output_type": "execute_result"
    }
   ],
   "source": [
    "data['OBS'].keys()"
   ]
  },
  {
   "cell_type": "code",
   "execution_count": null,
   "id": "cedd261c",
   "metadata": {},
   "outputs": [],
   "source": [
    "if False:\n",
    "    def main(args):\n",
    "        # Create a new HDF5 file\n",
    "        with h5py.File('example.hdf5', 'w') as f:\n",
    "\n",
    "            dataset1 = f.create_dataset('object_id', data= , dtype=np.int32)\n",
    "            dataset2 = f.create_dataset('ra'       , data= , dtype=np.float32)\n",
    "            dataset3 = f.create_dataset('dec'      , data= , dtype=np.float32)\n",
    "\n",
    "\n",
    "            dataset4 = f.create_dataset('time'        , data= , dtype=np.float32)\n",
    "            dataset5 = f.create_dataset('flux'        , data= , dtype=np.float32)\n",
    "            dataset6 = f.create_dataset('flux_err'    , data= , dtype=np.float32)\n",
    "            dataset7 = f.create_dataset('band'        , data= , dtype=np.int8)\n",
    "            dataset8 = f.create_dataset('quality_mask', data= , dtype=np.float32)\n",
    "\n",
    "    if __name__ == '__main__':\n",
    "        parser = argparse.ArgumentParser(description='Build a parent sample')\n",
    "        args = parser.parse_args()\n",
    "        main(args)"
   ]
  },
  {
   "cell_type": "code",
   "execution_count": 26,
   "id": "0e623cc6",
   "metadata": {},
   "outputs": [],
   "source": [
    "import os\n",
    "import argparse\n",
    "\n",
    "import h5py\n",
    "import numpy as np\n",
    "import sncosmo\n",
    "import glob\n",
    "\n",
    "#N       = # number of objects\n",
    "#t_max   = # maximum number of time for a given object\n",
    "#N_bands = # number of bands\n",
    "\n",
    "file_paths = glob.glob(r'../../data/yse_dr1_zenodo/*.dat')\n",
    "\n",
    "\n",
    "object_id = []\n",
    "ra = []\n",
    "dec = []\n",
    "time = []\n",
    "flux = []\n",
    "flux_err = []\n",
    "band = []\n",
    "quality_mask = []\n",
    "\n",
    "redshift = []\n",
    "host_log_mass = []\n",
    "spec_class = []\n",
    "\n",
    "max_len = 0\n",
    "\n",
    "for file_path in file_paths:\n",
    "    metadata, data = sncosmo.read_snana_ascii(file_path, default_tablename='OBS')\n",
    "    \n",
    "    object_id.append(metadata['SNID'])\n",
    "    ra.append(metadata['RA'])\n",
    "    dec.append(metadata['DECL'])\n",
    "    \n",
    "    redshift.append(metadata['REDSHIFT_FINAL'])\n",
    "    host_log_mass.append(metadata['HOST_LOGMASS'])\n",
    "    spec_class.append(metadata['SPEC_CLASS'])\n",
    "\n",
    "    time.append(data['OBS']['MJD'])\n",
    "    flux.append(data['OBS']['FLUXCAL'])\n",
    "    flux_err.append(data['OBS']['FLUXCALERR'])\n",
    "    band.append(data['OBS']['FLT'])  # TODO: convert to int\n",
    "    quality_mask.append(data['OBS']['FLAG'])  # TODO: convert to sensible\n",
    "\n",
    "    max_len = max(max_len, len(data['OBS']['MJD']))\n"
   ]
  },
  {
   "cell_type": "code",
   "execution_count": 27,
   "id": "68e0454b",
   "metadata": {},
   "outputs": [
    {
     "data": {
      "text/plain": [
       "341"
      ]
     },
     "execution_count": 27,
     "metadata": {},
     "output_type": "execute_result"
    }
   ],
   "source": [
    "max_len"
   ]
  },
  {
   "cell_type": "code",
   "execution_count": 51,
   "id": "6c40167e",
   "metadata": {},
   "outputs": [
    {
     "ename": "ValueError",
     "evalue": "setting an array element with a sequence. The requested array has an inhomogeneous shape after 1 dimensions. The detected shape was (2003,) + inhomogeneous part.",
     "output_type": "error",
     "traceback": [
      "\u001b[0;31m---------------------------------------------------------------------------\u001b[0m",
      "\u001b[0;31mValueError\u001b[0m                                Traceback (most recent call last)",
      "Cell \u001b[0;32mIn[51], line 1\u001b[0m\n\u001b[0;32m----> 1\u001b[0m np\u001b[38;5;241m.\u001b[39mconcatenate([col \u001b[38;5;28;01mfor\u001b[39;00m col \u001b[38;5;129;01min\u001b[39;00m \u001b[43mnp\u001b[49m\u001b[38;5;241;43m.\u001b[39;49m\u001b[43marray\u001b[49m\u001b[43m(\u001b[49m\u001b[43mband\u001b[49m\u001b[43m)\u001b[49m])\n",
      "\u001b[0;31mValueError\u001b[0m: setting an array element with a sequence. The requested array has an inhomogeneous shape after 1 dimensions. The detected shape was (2003,) + inhomogeneous part."
     ]
    }
   ],
   "source": []
  },
  {
   "cell_type": "code",
   "execution_count": null,
   "id": "0756cffd",
   "metadata": {},
   "outputs": [],
   "source": []
  }
 ],
 "metadata": {
  "jupytext": {
   "cell_metadata_filter": "-all",
   "main_language": "python",
   "notebook_metadata_filter": "-all"
  },
  "kernelspec": {
   "display_name": "Python 3 (ipykernel)",
   "language": "python",
   "name": "python3"
  },
  "language_info": {
   "codemirror_mode": {
    "name": "ipython",
    "version": 3
   },
   "file_extension": ".py",
   "mimetype": "text/x-python",
   "name": "python",
   "nbconvert_exporter": "python",
   "pygments_lexer": "ipython3",
   "version": "3.11.8"
  }
 },
 "nbformat": 4,
 "nbformat_minor": 5
}
