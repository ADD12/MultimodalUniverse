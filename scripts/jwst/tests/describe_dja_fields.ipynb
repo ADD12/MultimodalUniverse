{
 "cells": [
  {
   "cell_type": "code",
   "execution_count": 1,
   "id": "3c8f3512-65e7-4a11-8730-183b35b6bf86",
   "metadata": {},
   "outputs": [],
   "source": [
    "import numpy as np\n",
    "import json\n",
    "import wget\n",
    "from bs4 import BeautifulSoup\n",
    "import tarfile\n",
    "from astropy.table import Table\n",
    "import os"
   ]
  },
  {
   "cell_type": "code",
   "execution_count": 2,
   "id": "af09f02e-2211-4dc9-be12-ec096af0d325",
   "metadata": {},
   "outputs": [
    {
     "name": "stdout",
     "output_type": "stream",
     "text": [
      "['abell2744clu', 'abell2744par', 'abells1063', 'ceers-full', 'elgordo', 'gdn', 'gds', 'gds-miri-hudf', 'gds-sw', 'j112716p4228', 'j1235', 'jwst-nep-tdf-nrc', 'macs0647', 'mrg0138', 'ngdeep', 'primer-cosmos-east', 'primer-cosmos', 'primer-cosmos-west', 'primer-uds', 'primer-uds-north', 'primer-uds-south', 'rxj2129', 'sgas1723', 'smacs0723', 'sunrise', 'ulasj1342']\n"
     ]
    }
   ],
   "source": [
    "base_url = 'https://s3.amazonaws.com/grizli-v2/JwstMosaics/v7/index.html'\n",
    "output_directory = 'ceers/'  # Update this path as needed\n",
    "\n",
    "# make sure the output directory exists\n",
    "try:\n",
    "    os.chdir(output_directory)\n",
    "    os.chdir('..')\n",
    "except:\n",
    "    print('output directory not found, made the dir.')\n",
    "    os.mkdir(output_directory)\n",
    "\n",
    "file = base_url.split('/')[-1]\n",
    "if not os.path.exists(base_url.split('/')[-1]):\n",
    "    wget.download(base_url)\n",
    "\n",
    "# Read the content of the file\n",
    "with open(file, \"r\") as f:\n",
    "    file_content = f.read()\n",
    "\n",
    "# Parse the HTML content\n",
    "soup = BeautifulSoup(file_content, 'html.parser')\n",
    "all_links = []\n",
    "for temp in soup.find_all('a'):\n",
    "    if 'sci' in temp['href']:\n",
    "        all_links.append(temp['href'].split('/')[-1])\n",
    "\n",
    "fields = []\n",
    "for i in range(len(all_links)):\n",
    "    if 'grizli' in all_links[i]:\n",
    "        temp = all_links[i].split('-grizli-')[0]\n",
    "        if temp not in fields:\n",
    "            fields.append(temp)\n",
    "    else:\n",
    "        continue\n",
    "\n",
    "field_filts = []\n",
    "field_vers = []\n",
    "for j in range(len(fields)):\n",
    "    ff = []\n",
    "    fv = []\n",
    "    for i in range(len(all_links)):\n",
    "        \n",
    "        if 'grizli' in all_links[i]:\n",
    "            field_name = all_links[i].split('-grizli-')[0]\n",
    "            rest = all_links[i].split('-grizli-')[1]\n",
    "            if field_name == fields[j]:\n",
    "                ver = rest.split('-')[0]\n",
    "                fv.append(ver)\n",
    "                tp = rest.split('-')\n",
    "                for tl in tp: \n",
    "                    if tl[0] == 'f':\n",
    "                        # print(tl.split('_')[0])\n",
    "                        ff.append(tl.split('_')[0])\n",
    "                        \n",
    "    field_filts.append(np.unique(ff))\n",
    "    field_vers.append(np.unique(fv))\n",
    "\n",
    "print(fields)\n",
    "\n",
    "\n",
    "            "
   ]
  },
  {
   "cell_type": "code",
   "execution_count": 3,
   "id": "92fa64cc-4b71-4e94-8db1-4cd739f88ee9",
   "metadata": {},
   "outputs": [
    {
     "name": "stdout",
     "output_type": "stream",
     "text": [
      "ceers-full ['v7.0' 'v7.2'] ['f1000w' 'f115w' 'f1280w' 'f1500w' 'f150w' 'f1800w' 'f182m' 'f200w'\n",
      " 'f2100w' 'f210m' 'f277w' 'f356w' 'f410m' 'f444w' 'f560w' 'f770w']\n"
     ]
    }
   ],
   "source": [
    "fname = 'ceers-full'\n",
    "i = np.where(fname == np.array(fields))[0][0]\n",
    "print(fields[i], field_vers[i], field_filts[i])"
   ]
  },
  {
   "cell_type": "code",
   "execution_count": null,
   "id": "02eabda5-77b9-4764-8f99-e28941886d5f",
   "metadata": {},
   "outputs": [],
   "source": []
  }
 ],
 "metadata": {
  "kernelspec": {
   "display_name": "Python 3 (ipykernel)",
   "language": "python",
   "name": "python3"
  },
  "language_info": {
   "codemirror_mode": {
    "name": "ipython",
    "version": 3
   },
   "file_extension": ".py",
   "mimetype": "text/x-python",
   "name": "python",
   "nbconvert_exporter": "python",
   "pygments_lexer": "ipython3",
   "version": "3.11.5"
  }
 },
 "nbformat": 4,
 "nbformat_minor": 5
}
