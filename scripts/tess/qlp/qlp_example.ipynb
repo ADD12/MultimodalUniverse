{
 "cells": [
  {
   "cell_type": "code",
   "execution_count": 3,
   "metadata": {},
   "outputs": [
    {
     "name": "stdout",
     "output_type": "stream",
     "text": [
      "Filename: /Users/rogersb/Desktop/first_year/MultimodalUniverse/scripts/tess/qlp/qlp/fits/s0023/0000/0000/0902/7719/hlsp_qlp_tess_ffi_s0023-0000000009027719_tess_v01_llc.fits\n",
      "No.    Name      Ver    Type      Cards   Dimensions   Format\n",
      "  0  PRIMARY       1 PrimaryHDU      29   ()      \n",
      "  1  LIGHTCURVE    1 BinTableHDU     65   1238R x 13C   [D, J, E, E, E, J, J, E, E, E, E, E, E]   \n",
      "\n",
      "Header information:\n",
      "XTENSION: BINTABLE\n",
      "BITPIX: 8\n",
      "NAXIS: 2\n",
      "NAXIS1: 56\n",
      "NAXIS2: 1238\n",
      "PCOUNT: 0\n",
      "GCOUNT: 1\n",
      "TFIELDS: 13\n",
      "TTYPE1: TIME\n",
      "TFORM1: D\n",
      "TUNIT1: BJD-2457000, days\n",
      "TTYPE2: CADENCENO\n",
      "TFORM2: J\n",
      "TTYPE3: SAP_FLUX\n",
      "TFORM3: E\n",
      "TTYPE4: KSPSAP_FLUX\n",
      "TFORM4: E\n",
      "TTYPE5: KSPSAP_FLUX_ERR\n",
      "TFORM5: E\n",
      "TTYPE6: QUALITY\n",
      "TFORM6: J\n",
      "TTYPE7: ORBITID\n",
      "TFORM7: J\n",
      "TTYPE8: SAP_X\n",
      "TFORM8: E\n",
      "TUNIT8: pixel\n",
      "TTYPE9: SAP_Y\n",
      "TFORM9: E\n",
      "TUNIT9: pixel\n",
      "TTYPE10: SAP_BKG\n",
      "TFORM10: E\n",
      "TTYPE11: SAP_BKG_ERR\n",
      "TFORM11: E\n",
      "TTYPE12: KSPSAP_FLUX_SML\n",
      "TFORM12: E\n",
      "TTYPE13: KSPSAP_FLUX_LAG\n",
      "TFORM13: E\n",
      "INHERIT: T\n",
      "EXTNAME: LIGHTCURVE\n",
      "EXTVER: 1\n",
      "TELESCOP: TESS\n",
      "INSTRUME: TESS Photometer\n",
      "OBJECT: TIC 9027719\n",
      "TICID: 9027719\n",
      "RADESYS: ICRS\n",
      "RA_OBJ: 221.529047\n",
      "DEC_OBJ: 31.596167\n",
      "TIMEREF: SOLARSYSTEM\n",
      "TASSIGN: SPACECRAFT\n",
      "TIMESYS: TDB\n",
      "BJDREFI: 2457000\n",
      "BJDREFR: 0.0\n",
      "TIMEUNIT: d\n",
      "TELAPS: 26.75046283098118\n",
      "TSTART: 1928.118589500846\n",
      "TSTOP: 1954.869052331827\n",
      "TIMEDEL: 0.02083333333333333\n",
      "MJD-BEG: 58927.6185895009\n",
      "MJD-END: 58954.36905233189\n",
      "BESTAP: 3.0:4.0:3.0\n",
      "SMALLAP: 2.5:4.0:3.0\n",
      "LARGEAP: 3.5:5.0:4.0\n",
      "KSPPENCO: 0.75\n",
      "KSPBSMIN: 0.3\n",
      "KSPBSMAX: 1.5\n",
      "\n",
      "Available data columns:\n",
      "name = 'TIME'; format = 'D'; unit = 'BJD-2457000, days'\n",
      "name = 'CADENCENO'; format = 'J'\n",
      "name = 'SAP_FLUX'; format = 'E'\n",
      "name = 'KSPSAP_FLUX'; format = 'E'\n",
      "name = 'KSPSAP_FLUX_ERR'; format = 'E'\n",
      "name = 'QUALITY'; format = 'J'\n",
      "name = 'ORBITID'; format = 'J'\n",
      "name = 'SAP_X'; format = 'E'; unit = 'pixel'\n",
      "name = 'SAP_Y'; format = 'E'; unit = 'pixel'\n",
      "name = 'SAP_BKG'; format = 'E'\n",
      "name = 'SAP_BKG_ERR'; format = 'E'\n",
      "name = 'KSPSAP_FLUX_SML'; format = 'E'\n",
      "name = 'KSPSAP_FLUX_LAG'; format = 'E'\n"
     ]
    }
   ],
   "source": [
    "from astropy.io import fits\n",
    "\n",
    "# Open the FITS file\n",
    "fits_path = '/Users/rogersb/Desktop/first_year/MultimodalUniverse/scripts/tess/qlp/qlp/fits/s0023/0000/0000/0902/7719/hlsp_qlp_tess_ffi_s0023-0000000009027719_tess_v01_llc.fits'\n",
    "\n",
    "with fits.open(fits_path, ignore_missing_simple=True) as hdu:\n",
    "    # Print info about the file structure\n",
    "    hdu.info()\n",
    "    \n",
    "    # Access the data from the first extension (index 1)\n",
    "    data = hdu[1].data\n",
    "    header = hdu[1].header\n",
    "    \n",
    "    # Print some header info\n",
    "    print(\"\\nHeader information:\")\n",
    "    for key in header:\n",
    "        print(f\"{key}: {header[key]}\")\n",
    "        \n",
    "    # Print available columns\n",
    "    print(\"\\nAvailable data columns:\")\n",
    "    for col in data.columns:\n",
    "        print(col)"
   ]
  },
  {
   "cell_type": "code",
   "execution_count": 2,
   "metadata": {},
   "outputs": [
    {
     "name": "stderr",
     "output_type": "stream",
     "text": [
      "/Users/rogersb/Desktop/first_year/MultimodalUniverse/.venv/lib/python3.12/site-packages/tqdm/auto.py:21: TqdmWarning: IProgress not found. Please update jupyter and ipywidgets. See https://ipywidgets.readthedocs.io/en/stable/user_install.html\n",
      "  from .autonotebook import tqdm as notebook_tqdm\n"
     ]
    }
   ],
   "source": [
    "from datasets import load_dataset\n",
    "from datasets.data_files import DataFilesPatternsDict"
   ]
  },
  {
   "cell_type": "code",
   "execution_count": 6,
   "metadata": {},
   "outputs": [
    {
     "name": "stderr",
     "output_type": "stream",
     "text": [
      "Generating train split: 100 examples [00:00, 117.08 examples/s]"
     ]
    },
    {
     "name": "stdout",
     "output_type": "stream",
     "text": [
      "{'lightcurve': {'time': array([1928.1185, 1928.1394, 1928.1603, ..., 1954.8274, 1954.8481,\n",
      "       1954.869 ], dtype=float32), 'sap_flux': array([1.1077619 , 1.120108  , 1.1088432 , ..., 0.9963516 , 0.9977126 ,\n",
      "       0.99596876], dtype=float32), 'kspsap_flux': array([0.9869283 , 1.0035716 , 0.9988561 , ..., 0.99912727, 1.0005527 ,\n",
      "       0.9988667 ], dtype=float32), 'kspsap_flux_err': array([0.00245111, 0.00245111, 0.00245111, ..., 0.00245111, 0.00245111,\n",
      "       0.00245111], dtype=float32), 'quality': array([4096., 4096., 4096., ..., 4096.,    0., 4096.], dtype=float32), 'orbitid': array([53., 53., 53., ..., 54., 54., 54.], dtype=float32), 'sap_x': array([547.10803, 547.1302 , 547.127  , ..., 547.18524, 547.1888 ,\n",
      "       547.1865 ], dtype=float32), 'sap_y': array([1413.3352, 1413.3248, 1413.341 , ..., 1413.358 , 1413.3589,\n",
      "       1413.3618], dtype=float32), 'sap_bkg': array([-6253.38, -7796.38, -6823.48, ...,   729.75,   721.61,   651.12],\n",
      "      dtype=float32), 'sap_bkg_err': array([7889.2 , 7360.89, 6819.68, ...,  310.82,  370.11,  376.33],\n",
      "      dtype=float32), 'kspsap_flux_sml': array([0.98983747, 0.99563265, 0.9987395 , ..., 0.99920803, 1.0003496 ,\n",
      "       0.9988421 ], dtype=float32), 'kspsap_flux_lag': array([0.97444326, 1.0026588 , 0.99825096, ..., 0.997746  , 1.0014073 ,\n",
      "       0.9983632 ], dtype=float32)}, 'RA': np.float32(221.41649), 'DEC': np.float32(32.00876), 'TIC_ID': np.str_('9026878'), 'tess_mag': np.float32(13.2978), 'radius': np.float32(1.3735), 'teff': np.float32(5648.13), 'logg': np.float32(4.16241), 'mh': np.float32(-0.100102)}\n",
      "Example loaded successfully.\n"
     ]
    },
    {
     "name": "stderr",
     "output_type": "stream",
     "text": [
      "\n"
     ]
    }
   ],
   "source": [
    "qlp = load_dataset(\"./qlp\", \n",
    "                            trust_remote_code=True, \n",
    "                            data_files = DataFilesPatternsDict.from_patterns({\"train\": [\"QLP/healpix=*/*.hdf5\"]}))\n",
    "dset = qlp.with_format('numpy')['train']\n",
    "dset = iter(dset)\n",
    "example = next(dset)\n",
    "print(example)\n",
    "print(\"Example loaded successfully.\")"
   ]
  },
  {
   "cell_type": "code",
   "execution_count": 24,
   "metadata": {},
   "outputs": [
    {
     "data": {
      "text/plain": [
       "FITS_rec([(1928.1185895 , 33631, 1.0007374 , 0.99948275, 0.00085949, 4096, 53, 492.23053, 1462.983 , -3509.11, 7243.02, 0.9982089 , 0.99922556),\n",
       "          (1928.1394234 , 33632, 1.0057449 , 1.0042807 , 0.00085949, 4096, 53, 492.23224, 1462.985 , -5265.  , 7225.04, 1.0021772 , 1.0059024 ),\n",
       "          (1928.16025731, 33633, 1.0035604 , 1.0019923 , 0.00085949, 4096, 53, 492.23468, 1462.9819,  -199.63, 7053.44, 1.0012084 , 1.0026191 ),\n",
       "          ...,\n",
       "          (1954.82738564, 34913, 0.99882025, 0.9996145 , 0.00085949, 4096, 54, 492.15567, 1463.0251,  -286.69,  500.67, 0.99958724, 0.9997234 ),\n",
       "          (1954.84821899, 34914, 0.9996983 , 1.0008427 , 0.00085949,    0, 54, 492.1562 , 1463.0269,  -511.11,  456.95, 1.0006897 , 1.0010748 ),\n",
       "          (1954.86905233, 34915, 0.9984402 , 0.9999807 , 0.00085949, 4096, 54, 492.15543, 1463.0287,  -239.3 ,  502.47, 0.9999605 , 0.9999236 )],\n",
       "         dtype=(numpy.record, [('TIME', '>f8'), ('CADENCENO', '>i4'), ('SAP_FLUX', '>f4'), ('KSPSAP_FLUX', '>f4'), ('KSPSAP_FLUX_ERR', '>f4'), ('QUALITY', '>i4'), ('ORBITID', '>i4'), ('SAP_X', '>f4'), ('SAP_Y', '>f4'), ('SAP_BKG', '>f4'), ('SAP_BKG_ERR', '>f4'), ('KSPSAP_FLUX_SML', '>f4'), ('KSPSAP_FLUX_LAG', '>f4')]))"
      ]
     },
     "execution_count": 24,
     "metadata": {},
     "output_type": "execute_result"
    }
   ],
   "source": [
    "data"
   ]
  },
  {
   "cell_type": "code",
   "execution_count": 27,
   "metadata": {},
   "outputs": [
    {
     "data": {
      "text/plain": [
       "array([0.99948275, 1.0042807 , 1.0019923 , ..., 0.9996145 , 1.0008427 ,\n",
       "       0.9999807 ], dtype='>f4')"
      ]
     },
     "execution_count": 27,
     "metadata": {},
     "output_type": "execute_result"
    }
   ],
   "source": [
    "data['kspsap_flux']"
   ]
  },
  {
   "cell_type": "code",
   "execution_count": 3,
   "metadata": {},
   "outputs": [
    {
     "name": "stderr",
     "output_type": "stream",
     "text": [
      "Generating train split: 100 examples [00:00, 112.76 examples/s]\n"
     ]
    }
   ],
   "source": [
    "qlp = load_dataset(\"../test_qlp/test_qlp.py\", \n",
    "                 trust_remote_code=True, \n",
    "                data_files = DataFilesPatternsDict.from_patterns({\"train\": [\"QLP/healpix=*/*.hdf5\"]}))"
   ]
  }
 ],
 "metadata": {
  "kernelspec": {
   "display_name": ".venv",
   "language": "python",
   "name": "python3"
  },
  "language_info": {
   "codemirror_mode": {
    "name": "ipython",
    "version": 3
   },
   "file_extension": ".py",
   "mimetype": "text/x-python",
   "name": "python",
   "nbconvert_exporter": "python",
   "pygments_lexer": "ipython3",
   "version": "3.12.7"
  }
 },
 "nbformat": 4,
 "nbformat_minor": 2
}
