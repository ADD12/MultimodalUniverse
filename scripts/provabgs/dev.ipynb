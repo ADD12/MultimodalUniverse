{
 "cells": [
  {
   "cell_type": "code",
   "execution_count": 7,
   "metadata": {},
   "outputs": [],
   "source": [
    "from astropy.table import Table\n",
    "import healpy as hp\n",
    "import numpy as np\n",
    "import os\n",
    "from tqdm import tqdm\n",
    "import argparse\n",
    "from multiprocessing import Pool\n",
    "import h5py\n",
    "\n",
    "\n",
    "provabgs_file = 'https://data.desi.lbl.gov/public/edr/vac/edr/provabgs/v1.0/BGS_ANY_full.provabgs.sv3.v0.hdf5   '\n",
    "\n",
    "def download_data(save_path: str):\n",
    "    \"\"\"Download the PROVABGS data from the web and save it to the specified directory.\"\"\"\n",
    "    # Check if the save path exists\n",
    "    if not os.path.exists(save_path):\n",
    "        os.makedirs(save_path)\n",
    "    \n",
    "    # Download the PROVABGS file\n",
    "    local_path = os.path.join(save_path, 'provabgs.hdf5')\n",
    "    if not os.path.exists(local_path):\n",
    "        print(\"Downloading PROVABGS data...\")\n",
    "        os.system(f\"wget {provabgs_file} -O {local_path}\")\n",
    "        print(\"Downloaded PROVABGS data successfully!\")\n",
    "    else:\n",
    "        print(\"PROVABGS data already exists!\")"
   ]
  },
  {
   "cell_type": "code",
   "execution_count": 8,
   "metadata": {},
   "outputs": [
    {
     "name": "stdout",
     "output_type": "stream",
     "text": [
      "Downloading PROVABGS data...\n"
     ]
    },
    {
     "name": "stderr",
     "output_type": "stream",
     "text": [
      "--2024-05-02 14:31:39--  https://data.desi.lbl.gov/public/edr/vac/edr/provabgs/v1.0/BGS_ANY_full.provabgs.sv3.v0.hdf5\n",
      "Resolving data.desi.lbl.gov (data.desi.lbl.gov)... 128.55.206.112, 128.55.206.109, 128.55.206.113, ...\n",
      "Connecting to data.desi.lbl.gov (data.desi.lbl.gov)|128.55.206.112|:443... connected.\n"
     ]
    }
   ],
   "source": [
    "download_data('/mnt/ceph/users/polymathic/AstroPile/provabgs')"
   ]
  },
  {
   "cell_type": "code",
   "execution_count": null,
   "metadata": {},
   "outputs": [],
   "source": [
    "data = Table.read('/mnt/ceph/users/polymathic/AstroPile/provabgs')"
   ]
  }
 ],
 "metadata": {
  "kernelspec": {
   "display_name": "toto",
   "language": "python",
   "name": "python3"
  },
  "language_info": {
   "codemirror_mode": {
    "name": "ipython",
    "version": 3
   },
   "file_extension": ".py",
   "mimetype": "text/x-python",
   "name": "python",
   "nbconvert_exporter": "python",
   "pygments_lexer": "ipython3",
   "version": "3.10.10"
  },
  "orig_nbformat": 4
 },
 "nbformat": 4,
 "nbformat_minor": 2
}
