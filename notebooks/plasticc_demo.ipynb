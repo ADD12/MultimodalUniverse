{
 "cells": [
  {
   "cell_type": "code",
   "execution_count": 1,
   "id": "1e53acd7-8745-43d7-895e-c4ae885380a6",
   "metadata": {},
   "outputs": [],
   "source": [
    "from datasets import load_dataset\n",
    "import numpy as np"
   ]
  },
  {
   "cell_type": "code",
   "execution_count": null,
   "id": "e717d87f-2f21-422f-a6b5-4040c5362346",
   "metadata": {
    "tags": []
   },
   "outputs": [],
   "source": [
    "dataset = load_dataset(\"/pscratch/sd/h/helenqu/mmu_test/plasticc_h5\")"
   ]
  },
  {
   "cell_type": "code",
   "execution_count": 3,
   "id": "c921c332-b294-4a06-8119-ba1286114153",
   "metadata": {
    "tags": []
   },
   "outputs": [],
   "source": [
    "example = dataset['train'][0]['lightcurve']"
   ]
  },
  {
   "cell_type": "code",
   "execution_count": 26,
   "id": "446026bb-88b5-461d-9c4e-37fec9943992",
   "metadata": {
    "tags": []
   },
   "outputs": [],
   "source": [
    "bands = np.unique(example['band'])\n",
    "num_bands = len(bands)\n",
    "seq_len = sum(np.array(example['band']) == bands[0])\n",
    "\n",
    "shape = (num_bands, seq_len)"
   ]
  },
  {
   "cell_type": "code",
   "execution_count": 16,
   "id": "9a09937d-5eac-4531-b453-b8ece22a4da7",
   "metadata": {
    "tags": []
   },
   "outputs": [],
   "source": [
    "# find non-padding timestamps for a single band to determine the unpadded sequence length\n",
    "true_seq_idxs = np.where(np.array(example['time']) != 0)[0]\n",
    "single_band_mask = true_seq_idxs < seq_len\n",
    "unpadded_seq_len = max(true_seq_idxs[single_band_mask])"
   ]
  },
  {
   "cell_type": "code",
   "execution_count": 24,
   "id": "112fa6a2-2e1b-47be-bf9f-0e3c16234c3b",
   "metadata": {
    "tags": []
   },
   "outputs": [],
   "source": [
    "# remove padding from data\n",
    "times = np.reshape(example['time'], shape)[:, :unpadded_seq_len]\n",
    "fluxes = np.reshape(example['flux'], shape)[:, :unpadded_seq_len]\n",
    "flux_errs = np.reshape(example['flux_err'], shape)[:, :unpadded_seq_len]"
   ]
  },
  {
   "cell_type": "code",
   "execution_count": null,
   "id": "f63f187e-cfe0-4206-8682-4f9cac3023be",
   "metadata": {
    "tags": []
   },
   "outputs": [],
   "source": [
    "import matplotlib.pyplot as plt\n",
    "\n",
    "cmap = plt.get_cmap('gist_rainbow')\n",
    "colors = cmap(np.linspace(0,1,7))\n",
    "bands = ['u', 'g', 'r', 'i', 'z', 'Y']\n",
    "\n",
    "for i in range(num_bands):\n",
    "    # don't plot missing bands\n",
    "    if not times[i].any():\n",
    "        continue\n",
    "\n",
    "    plt.errorbar(times[i], fluxes[i], yerr=flux_errs[i], fmt='o', color=colors[i], markersize=5, alpha=0.5, label=bands[i])\n",
    "plt.legend()\n",
    "plt.ylabel(\"flux\")\n",
    "plt.xlabel(\"time (MJD)\")"
   ]
  },
  {
   "cell_type": "code",
   "execution_count": null,
   "id": "3e0f66d9-f95a-4002-b6d9-623bf79b1cf0",
   "metadata": {},
   "outputs": [],
   "source": []
  }
 ],
 "metadata": {
  "kernelspec": {
   "display_name": "NERSC Python",
   "language": "python",
   "name": "python3"
  },
  "language_info": {
   "codemirror_mode": {
    "name": "ipython",
    "version": 3
   },
   "file_extension": ".py",
   "mimetype": "text/x-python",
   "name": "python",
   "nbconvert_exporter": "python",
   "pygments_lexer": "ipython3",
   "version": "3.11.7"
  }
 },
 "nbformat": 4,
 "nbformat_minor": 5
}
