{
 "cells": [
  {
   "cell_type": "code",
   "execution_count": 1,
   "metadata": {},
   "outputs": [
    {
     "name": "stderr",
     "output_type": "stream",
     "text": [
      "/mnt/sw/nix/store/b4q5asj8flwlgmaijgj1r6wbmnls5x8k-python-3.9.15-view/lib/python3.9/site-packages/torchvision/io/image.py:13: UserWarning: Failed to load image Python extension: /mnt/sw/nix/store/7bjp92vyxq4vmcm6q2kwdv325d50n362-py-torchvision-0.14.1/lib/python3.9/site-packages/torchvision/image.so: undefined symbol: _ZN5torch3jit17parseSchemaOrNameERKNSt7__cxx1112basic_stringIcSt11char_traitsIcESaIcEEE\n",
      "  warn(f\"Failed to load image Python extension: {e}\")\n"
     ]
    }
   ],
   "source": [
    "import sys\n",
    "sys.path.append('../..')\n",
    "from datasets import load_dataset, load_dataset_builder\n",
    "\n",
    "from astropile.utils import cross_match_datasets\n",
    "from photo_z_wrapper import PhotoZWrapper"
   ]
  },
  {
   "cell_type": "code",
   "execution_count": 2,
   "metadata": {},
   "outputs": [
    {
     "name": "stderr",
     "output_type": "stream",
     "text": [
      "/mnt/home/lparker/python_envs/astrokernel/lib/python3.9/site-packages/huggingface_hub/repocard.py:105: UserWarning: Repo card metadata block was not found. Setting CardData to empty.\n",
      "  warnings.warn(\"Repo card metadata block was not found. Setting CardData to empty.\")\n"
     ]
    },
    {
     "name": "stdout",
     "output_type": "stream",
     "text": [
      "Initial number of matches:  1286\n",
      "Number of matches lost at healpix region borders:  0\n",
      "Final size of cross-matched catalog:  1286\n"
     ]
    }
   ],
   "source": [
    "# Load Dataset Builders \n",
    "hsc_builder = load_dataset_builder('/mnt/ceph/users/polymathic/AstroPile_tiny/hsc/hsc.py', trust_remote_code=True)\n",
    "desi_builder = load_dataset_builder('/mnt/ceph/users/polymathic/AstroPile_tiny/desi/desi.py', trust_remote_code=True)\n",
    "\n",
    "# Cross-Match Datasets with AstroPile\n",
    "hsc_meets_desi = cross_match_datasets(desi_builder, hsc_builder,\n",
    "                                      matching_radius=1.0,\n",
    "                                      keep_in_memory=True,\n",
    "                                      )\n",
    "\n",
    "hsc_meets_desi.set_format('torch')"
   ]
  },
  {
   "cell_type": "code",
   "execution_count": 3,
   "metadata": {},
   "outputs": [],
   "source": [
    "sys.path.append('../')\n",
    "from utils import split_dataset\n",
    "\n",
    "# Use prebuilt split function to split the dataset (currently supports naive)\n",
    "train_dataset, test_dataset = split_dataset(hsc_meets_desi, split='naive')"
   ]
  },
  {
   "cell_type": "code",
   "execution_count": 4,
   "metadata": {},
   "outputs": [],
   "source": [
    "# Create PhotoZWrapper for training and testing\n",
    "photo_z = PhotoZWrapper(\n",
    "    train_dataset,\n",
    "    test_dataset, \n",
    "    feature_flag='image.array', # feature flag\n",
    "    label_flag='Z',             # label flag\n",
    "    loading='iterated',         # iterated or full\n",
    "    dynamic_range=True,         # arcsinh dynamic range compression\n",
    "    batch_size=128, \n",
    "    num_workers=16, \n",
    "    test_size=0.2, \n",
    "    )    "
   ]
  },
  {
   "cell_type": "code",
   "execution_count": 5,
   "metadata": {},
   "outputs": [
    {
     "name": "stderr",
     "output_type": "stream",
     "text": [
      "/mnt/home/lparker/Documents/AstroFoundationModel/AstroPile_prototype/baselines/photo_z/../utils.py:46: UserWarning: To copy construct from a tensor, it is recommended to use sourceTensor.clone().detach() or sourceTensor.clone().detach().requires_grad_(True), rather than torch.tensor(sourceTensor).\n",
      "  dummy = torch.tensor(get_nested(dataset[0], flag))\n",
      "Computing statistics for image.array:   0%|          | 0/9 [00:00<?, ?it/s]"
     ]
    },
    {
     "name": "stderr",
     "output_type": "stream",
     "text": [
      "Computing statistics for image.array: 100%|██████████| 9/9 [00:01<00:00,  6.61it/s]\n",
      "Computing statistics for Z: 100%|██████████| 9/9 [00:01<00:00,  7.10it/s]\n"
     ]
    }
   ],
   "source": [
    "# Prep data\n",
    "photo_z.prepare_data()"
   ]
  },
  {
   "cell_type": "code",
   "execution_count": 6,
   "metadata": {},
   "outputs": [],
   "source": [
    "train_loader = photo_z.train_dataloader()\n",
    "val_loader = photo_z.val_dataloader()\n",
    "test_loader = photo_z.test_dataloader()"
   ]
  },
  {
   "cell_type": "code",
   "execution_count": 7,
   "metadata": {},
   "outputs": [],
   "source": [
    "x, y = next(iter(train_loader))"
   ]
  }
 ],
 "metadata": {
  "kernelspec": {
   "display_name": "astrokernel",
   "language": "python",
   "name": "python3"
  },
  "language_info": {
   "codemirror_mode": {
    "name": "ipython",
    "version": 3
   },
   "file_extension": ".py",
   "mimetype": "text/x-python",
   "name": "python",
   "nbconvert_exporter": "python",
   "pygments_lexer": "ipython3",
   "version": "3.9.15"
  },
  "orig_nbformat": 4
 },
 "nbformat": 4,
 "nbformat_minor": 2
}
